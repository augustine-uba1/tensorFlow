{
  "nbformat": 4,
  "nbformat_minor": 0,
  "metadata": {
    "colab": {
      "provenance": [],
      "authorship_tag": "ABX9TyP63le7LxgFjlvGheR/dwYy",
      "include_colab_link": true
    },
    "kernelspec": {
      "name": "python3",
      "display_name": "Python 3"
    },
    "language_info": {
      "name": "python"
    }
  },
  "cells": [
    {
      "cell_type": "markdown",
      "metadata": {
        "id": "view-in-github",
        "colab_type": "text"
      },
      "source": [
        "<a href=\"https://colab.research.google.com/github/augustine-uba1/tensorFlow/blob/main/TensorFlows.ipynb\" target=\"_parent\"><img src=\"https://colab.research.google.com/assets/colab-badge.svg\" alt=\"Open In Colab\"/></a>"
      ]
    },
    {
      "cell_type": "code",
      "execution_count": 1,
      "metadata": {
        "id": "7yEPbUrdNuBG"
      },
      "outputs": [],
      "source": [
        "import tensorflow as tf"
      ]
    },
    {
      "cell_type": "code",
      "source": [
        "tensor_zero_d = tf.constant(4)\n",
        "print(tensor_zero_d)"
      ],
      "metadata": {
        "colab": {
          "base_uri": "https://localhost:8080/"
        },
        "id": "YLN0hxBBN9sG",
        "outputId": "f9ee2196-48ba-4c98-a96f-4813c751dbe4"
      },
      "execution_count": 3,
      "outputs": [
        {
          "output_type": "stream",
          "name": "stdout",
          "text": [
            "tf.Tensor(4, shape=(), dtype=int32)\n"
          ]
        }
      ]
    },
    {
      "cell_type": "code",
      "source": [
        "# CREATING A ONE DIMENSIONAL TENSOR\n",
        "tensor_one_d = tf.constant([2,8,-9, 25, 50.2])\n",
        "print(tensor_one_d)"
      ],
      "metadata": {
        "colab": {
          "base_uri": "https://localhost:8080/"
        },
        "id": "uqLW3SHqQXwU",
        "outputId": "480f8f8c-cc08-4505-8fa4-9fb5ce469f33"
      },
      "execution_count": 11,
      "outputs": [
        {
          "output_type": "stream",
          "name": "stdout",
          "text": [
            "tf.Tensor([ 2.   8.  -9.  25.  50.2], shape=(5,), dtype=float32)\n",
            "tf.Tensor(\n",
            "[[4 5 8]\n",
            " [5 9 9]\n",
            " [5 6 9]\n",
            " [4 5 6]], shape=(4, 3), dtype=int32)\n"
          ]
        }
      ]
    },
    {
      "cell_type": "code",
      "source": [
        "# CREATING A 2 DIMENSIONAL TENSOR\n",
        "tensor_two_d = tf.constant([\n",
        "    [4,5,8],\n",
        "    [5,9,9],\n",
        "    [5,6,9],\n",
        "    [4,5,6]\n",
        "], dtype=tf.float16)\n",
        "print(tensor_two_d)"
      ],
      "metadata": {
        "colab": {
          "base_uri": "https://localhost:8080/"
        },
        "id": "blrtXacPQ-DS",
        "outputId": "def1bd2a-5d6c-473d-b601-3a6b5d423590"
      },
      "execution_count": 17,
      "outputs": [
        {
          "output_type": "stream",
          "name": "stdout",
          "text": [
            "tf.Tensor(\n",
            "[[4. 5. 8.]\n",
            " [5. 9. 9.]\n",
            " [5. 6. 9.]\n",
            " [4. 5. 6.]], shape=(4, 3), dtype=float16)\n"
          ]
        }
      ]
    },
    {
      "cell_type": "code",
      "source": [
        "# CREATING A 3 DIMENSIONAL TENSOR\n",
        "tensor_three_d = tf.constant([\n",
        "    [[4,5,8],\n",
        "    [5,9,9],],\n",
        "\n",
        "    [[4,5,8],\n",
        "    [5,9,9],],\n",
        "\n",
        "    [[4,5,8],\n",
        "    [5,9,9],],\n",
        "\n",
        "    [[4,5,8],\n",
        "    [5,9,9],]\n",
        "])\n",
        "tensor_shape = tensor_three_d.shape\n",
        "print(tensor_shape)\n",
        "tensor_dimension = tensor_three_d.ndim\n",
        "print(tensor_dimension)\n",
        "print(tensor_three_d)"
      ],
      "metadata": {
        "colab": {
          "base_uri": "https://localhost:8080/"
        },
        "id": "OwdsTJtnRnz3",
        "outputId": "d1fba02e-5a31-4dcc-f403-f7614d27661b"
      },
      "execution_count": 15,
      "outputs": [
        {
          "output_type": "stream",
          "name": "stdout",
          "text": [
            "(4, 2, 3)\n",
            "3\n",
            "tf.Tensor(\n",
            "[[[4 5 8]\n",
            "  [5 9 9]]\n",
            "\n",
            " [[4 5 8]\n",
            "  [5 9 9]]\n",
            "\n",
            " [[4 5 8]\n",
            "  [5 9 9]]\n",
            "\n",
            " [[4 5 8]\n",
            "  [5 9 9]]], shape=(4, 2, 3), dtype=int32)\n"
          ]
        }
      ]
    },
    {
      "cell_type": "code",
      "source": [
        "# CREATING A FOUR DIMENSIONAL TENSOR\n",
        "tensor_four_d = tf.constant( [\n",
        "    [[[7,5,8],\n",
        "    [8,0,9],],\n",
        "\n",
        "    [[4,5,8],\n",
        "    [5,9,9],],\n",
        "\n",
        "    [[1,5,8],\n",
        "    [5,9,9],],\n",
        "\n",
        "    [[4,5,8],\n",
        "    [5,9,9],]],\n",
        "\n",
        "    [[[60,53,8],\n",
        "    [5,99,78],],\n",
        "\n",
        "    [[49,75,8],\n",
        "    [56,95,9],],\n",
        "\n",
        "    [[4,5,8],\n",
        "    [5,9,9],],\n",
        "\n",
        "    [[4,5,8],\n",
        "    [5,9,9],]],\n",
        "\n",
        "    [[[4,5,68],\n",
        "    [5,69,59],],\n",
        "\n",
        "    [[45,5,83],\n",
        "    [5,9,9],],\n",
        "\n",
        "    [[46,55,8],\n",
        "    [56,96,92],],\n",
        "\n",
        "    [[48,5,8],\n",
        "    [5,9,9],]]\n",
        "])\n",
        "\n",
        "print (tensor_four_d.shape)"
      ],
      "metadata": {
        "colab": {
          "base_uri": "https://localhost:8080/"
        },
        "id": "c3D1xM8KTOzB",
        "outputId": "c10dd686-ebd9-4a24-b9df-797703ae99d4"
      },
      "execution_count": 16,
      "outputs": [
        {
          "output_type": "stream",
          "name": "stdout",
          "text": [
            "(3, 4, 2, 3)\n"
          ]
        }
      ]
    },
    {
      "cell_type": "code",
      "source": [
        "# USING CASTING\n",
        "tensor_one_d_before_casting = tf.constant([2,8,-9, 25, 50.2], dtype=tf.float16)\n",
        "casted_tensor_one_d = tf.cast(tensor_one_d_before_casting, dtype=tf.bool)\n",
        "print(tensor_one_d_before_casting)\n",
        "print(casted_tensor_one_d)"
      ],
      "metadata": {
        "colab": {
          "base_uri": "https://localhost:8080/"
        },
        "id": "0osP3CE-XzxJ",
        "outputId": "58fec51f-c7af-489f-ec20-c55ac005ba78"
      },
      "execution_count": 21,
      "outputs": [
        {
          "output_type": "stream",
          "name": "stdout",
          "text": [
            "tf.Tensor([ 2.   8.  -9.  25.  50.2], shape=(5,), dtype=float16)\n",
            "tf.Tensor([ True  True  True  True  True], shape=(5,), dtype=bool)\n"
          ]
        }
      ]
    }
  ]
}